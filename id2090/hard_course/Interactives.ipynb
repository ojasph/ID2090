{
 "cells": [
  {
   "cell_type": "markdown",
   "metadata": {},
   "source": [
    "# Interactives"
   ]
  },
  {
   "cell_type": "code",
   "execution_count": 1,
   "metadata": {},
   "outputs": [
    {
     "name": "stderr",
     "output_type": "stream",
     "text": [
      "Widget Javascript not detected.  It may not be installed or enabled properly.\n"
     ]
    },
    {
     "data": {
      "application/vnd.jupyter.widget-view+json": {
       "model_id": "63f1cb71fdc84b3686cf71427c84c760"
      }
     },
     "metadata": {},
     "output_type": "display_data"
    }
   ],
   "source": [
    "from sage.repl.ipython_kernel.interact import sage_interactive\n",
    "\n",
    "def myfunc(n):\n",
    "    print(\"You selected: \", n)\n",
    "    p = plot(sin((n+pi)*x/20),(x,0,6*pi))\n",
    "    p.show()\n",
    "sage_interactive(myfunc, n=(0,100))"
   ]
  },
  {
   "cell_type": "code",
   "execution_count": 2,
   "metadata": {},
   "outputs": [
    {
     "name": "stderr",
     "output_type": "stream",
     "text": [
      "Widget Javascript not detected.  It may not be installed or enabled properly.\n"
     ]
    },
    {
     "data": {
      "application/vnd.jupyter.widget-view+json": {
       "model_id": "bf8c39d38d644c1ab40fed314031a8cd"
      }
     },
     "metadata": {},
     "output_type": "display_data"
    }
   ],
   "source": [
    "@interact\n",
    "def myplot(f=input_box(default=x^3), auto_update=False):\n",
    "    show(plot(f,(x,-10,10)))"
   ]
  },
  {
   "cell_type": "code",
   "execution_count": 3,
   "metadata": {},
   "outputs": [
    {
     "name": "stderr",
     "output_type": "stream",
     "text": [
      "Widget Javascript not detected.  It may not be installed or enabled properly.\n"
     ]
    },
    {
     "data": {
      "application/vnd.jupyter.widget-view+json": {
       "model_id": "6e27ca6d527948e29339e72af2502947"
      }
     },
     "metadata": {},
     "output_type": "display_data"
    }
   ],
   "source": [
    "@interact\n",
    "def showfactorial(n=slider(1,20, step_size=19.9), auto_update=True):\n",
    "      k = 0.5*n;\n",
    "      p=plot(sin(k*x),(x,0,5*pi));\n",
    "      p.show()"
   ]
  },
  {
   "cell_type": "code",
   "execution_count": 4,
   "metadata": {},
   "outputs": [
    {
     "name": "stdout",
     "output_type": "stream",
     "text": [
      "Help on _InteractFactory in module ipywidgets.widgets.interaction object:\n",
      "\n",
      "class _InteractFactory(builtins.object)\n",
      " |  _InteractFactory(cls, options, kwargs={})\n",
      " |  \n",
      " |  Factory for instances of :class:`interactive`.\n",
      " |  \n",
      " |  This class is needed to support options like::\n",
      " |  \n",
      " |      >>> @interact.options(manual=True)\n",
      " |      ... def greeting(text=\"World\"):\n",
      " |      ...     print(\"Hello {}\".format(text))\n",
      " |  \n",
      " |  Parameters\n",
      " |  ----------\n",
      " |  cls : class\n",
      " |      The subclass of :class:`interactive` to construct.\n",
      " |  options : dict\n",
      " |      A dict of options used to construct the interactive\n",
      " |      function. By default, this is returned by\n",
      " |      ``cls.default_options()``.\n",
      " |  kwargs : dict\n",
      " |      A dict of **kwargs to use for widgets.\n",
      " |  \n",
      " |  Methods defined here:\n",
      " |  \n",
      " |  __call__(self, _InteractFactory__interact_f=None, **kwargs)\n",
      " |      Make the given function interactive by adding and displaying\n",
      " |      the corresponding :class:`interactive` widget.\n",
      " |      \n",
      " |      Expects the first argument to be a function. Parameters to this\n",
      " |      function are widget abbreviations passed in as keyword arguments\n",
      " |      (``**kwargs``). Can be used as a decorator (see examples).\n",
      " |      \n",
      " |      Returns\n",
      " |      -------\n",
      " |      f : __interact_f with interactive widget attached to it.\n",
      " |      \n",
      " |      Parameters\n",
      " |      ----------\n",
      " |      __interact_f : function\n",
      " |          The function to which the interactive widgets are tied. The `**kwargs`\n",
      " |          should match the function signature. Passed to :func:`interactive()`\n",
      " |      **kwargs : various, optional\n",
      " |          An interactive widget is created for each keyword argument that is a\n",
      " |          valid widget abbreviation. Passed to :func:`interactive()`\n",
      " |      \n",
      " |      Examples\n",
      " |      --------\n",
      " |      Render an interactive text field that shows the greeting with the passed in\n",
      " |      text::\n",
      " |      \n",
      " |          # 1. Using interact as a function\n",
      " |          def greeting(text=\"World\"):\n",
      " |              print(\"Hello {}\".format(text))\n",
      " |          interact(greeting, text=\"IPython Widgets\")\n",
      " |      \n",
      " |          # 2. Using interact as a decorator\n",
      " |          @interact\n",
      " |          def greeting(text=\"World\"):\n",
      " |              print(\"Hello {}\".format(text))\n",
      " |      \n",
      " |          # 3. Using interact as a decorator with named parameters\n",
      " |          @interact(text=\"IPython Widgets\")\n",
      " |          def greeting(text=\"World\"):\n",
      " |              print(\"Hello {}\".format(text))\n",
      " |      \n",
      " |      Render an interactive slider widget and prints square of number::\n",
      " |      \n",
      " |          # 1. Using interact as a function\n",
      " |          def square(num=1):\n",
      " |              print(\"{} squared is {}\".format(num, num*num))\n",
      " |          interact(square, num=5)\n",
      " |      \n",
      " |          # 2. Using interact as a decorator\n",
      " |          @interact\n",
      " |          def square(num=2):\n",
      " |              print(\"{} squared is {}\".format(num, num*num))\n",
      " |      \n",
      " |          # 3. Using interact as a decorator with named parameters\n",
      " |          @interact(num=5)\n",
      " |          def square(num=2):\n",
      " |              print(\"{} squared is {}\".format(num, num*num))\n",
      " |  \n",
      " |  __init__(self, cls, options, kwargs={})\n",
      " |      Initialize self.  See help(type(self)) for accurate signature.\n",
      " |  \n",
      " |  options(self, **kwds)\n",
      " |      Change options for interactive functions.\n",
      " |      \n",
      " |      Returns\n",
      " |      -------\n",
      " |      A new :class:`_InteractFactory` which will apply the\n",
      " |      options when called.\n",
      " |  \n",
      " |  widget(self, f)\n",
      " |      Return an interactive function widget for the given function.\n",
      " |      \n",
      " |      The widget is only constructed, not displayed nor attached to\n",
      " |      the function.\n",
      " |      \n",
      " |      Returns\n",
      " |      -------\n",
      " |      An instance of ``self.cls`` (typically :class:`interactive`).\n",
      " |      \n",
      " |      Parameters\n",
      " |      ----------\n",
      " |      f : function\n",
      " |          The function to which the interactive widgets are tied.\n",
      " |  \n",
      " |  ----------------------------------------------------------------------\n",
      " |  Data descriptors defined here:\n",
      " |  \n",
      " |  __dict__\n",
      " |      dictionary for instance variables (if defined)\n",
      " |  \n",
      " |  __weakref__\n",
      " |      list of weak references to the object (if defined)\n",
      "\n"
     ]
    }
   ],
   "source": [
    "help(interact)"
   ]
  },
  {
   "cell_type": "code",
   "execution_count": 5,
   "metadata": {},
   "outputs": [
    {
     "name": "stderr",
     "output_type": "stream",
     "text": [
      "Widget Javascript not detected.  It may not be installed or enabled properly.\n"
     ]
    },
    {
     "data": {
      "application/vnd.jupyter.widget-view+json": {
       "model_id": "de5623878aa74e9d8af07a80870d769c"
      }
     },
     "metadata": {},
     "output_type": "display_data"
    }
   ],
   "source": [
    "@interact\n",
    "def myinteract(\n",
    "    f = input_box(default=e^x),\n",
    "    n = slider(vmin=0, vmax=20, step_size=1, default=3, label=\"Select order: \"),\n",
    "    x0 = input_box(default=0),\n",
    "    simplified = selector(values=[\"Yes\", \"No\"], label=\"Simplify:\", default=\"No\"),\n",
    "    auto_update=False\n",
    "):\n",
    "    if(simplified == \"Yes\"):\n",
    "        print(f, \" = \", f.taylor(x,x0,n).full_simplify())\n",
    "    else:\n",
    "        print(f, \" = \", f.taylor(x,x0,n))"
   ]
  },
  {
   "cell_type": "code",
   "execution_count": null,
   "metadata": {},
   "outputs": [
    {
     "data": {
      "application/vnd.jupyter.widget-view+json": {
       "model_id": "cf71f285f0904e4591bbc4b2299fad5e"
      }
     },
     "metadata": {},
     "output_type": "display_data"
    }
   ],
   "source": [
    "# 1. Using interact as a function\n",
    "@interact\n",
    "def greeting(text=\"World\"):\n",
    "        print(\"Hello {}\".format(text))\n",
    "        interact(greeting, text=\"IPython Widgets\")  "
   ]
  },
  {
   "cell_type": "code",
   "execution_count": null,
   "metadata": {},
   "outputs": [],
   "source": []
  }
 ],
 "metadata": {
  "kernelspec": {
   "display_name": "SageMath 9.0",
   "language": "sage",
   "name": "sagemath"
  },
  "language_info": {
   "codemirror_mode": {
    "name": "ipython",
    "version": 3
   },
   "file_extension": ".py",
   "mimetype": "text/x-python",
   "name": "python",
   "nbconvert_exporter": "python",
   "pygments_lexer": "ipython3",
   "version": "3.8.10"
  }
 },
 "nbformat": 4,
 "nbformat_minor": 4
}
