{
 "cells": [
  {
   "cell_type": "code",
   "execution_count": 44,
   "metadata": {},
   "outputs": [
    {
     "name": "stdout",
     "output_type": "stream",
     "text": [
      "3.14159265358979323846264338327950288419716939937510582097494459230781640628620899862803482534211706798214808651328230664709384460955058223172535940812848111745028410270193852110555964462294895493038196\n",
      "3\n"
     ]
    }
   ],
   "source": [
    "from mpmath import mp\n",
    "\n",
    "def calculate_pi(digits):\n",
    "    mp.dps = digits  # Set the number of decimal places\n",
    "    pi = mp.pi\n",
    "    pi_str = str(pi)\n",
    "    return pi_str\n",
    "\n",
    "# Example usage\n",
    "num_digits = 201  # Specify the number of digits you want\n",
    "pi_value = calculate_pi(num_digits)\n",
    "print(pi_value)\n",
    "\n",
    "pi_value_str = str(pi_value)\n",
    "\n",
    "a=[]\n",
    "number_of_places = int(10)\n",
    "\n",
    "for i in pi_value_str:\n",
    "    a.append(str(i))\n",
    "\n",
    "print(a[number_of_places])"
   ]
  },
  {
   "cell_type": "code",
   "execution_count": 43,
   "metadata": {},
   "outputs": [
    {
     "data": {
      "text/plain": [
       "int"
      ]
     },
     "execution_count": 43,
     "metadata": {},
     "output_type": "execute_result"
    }
   ],
   "source": [
    "type(number_of_places)"
   ]
  },
  {
   "cell_type": "code",
   "execution_count": 45,
   "metadata": {},
   "outputs": [
    {
     "data": {
      "text/plain": [
       "<pi: 3.14159~>"
      ]
     },
     "execution_count": 45,
     "metadata": {},
     "output_type": "execute_result"
    }
   ],
   "source": [
    "mp.pi"
   ]
  },
  {
   "cell_type": "code",
   "execution_count": null,
   "metadata": {},
   "outputs": [],
   "source": []
  }
 ],
 "metadata": {
  "kernelspec": {
   "display_name": "Python 3",
   "language": "python",
   "name": "python3"
  },
  "language_info": {
   "codemirror_mode": {
    "name": "ipython",
    "version": 3
   },
   "file_extension": ".py",
   "mimetype": "text/x-python",
   "name": "python",
   "nbconvert_exporter": "python",
   "pygments_lexer": "ipython3",
   "version": "3.8.10"
  }
 },
 "nbformat": 4,
 "nbformat_minor": 4
}
