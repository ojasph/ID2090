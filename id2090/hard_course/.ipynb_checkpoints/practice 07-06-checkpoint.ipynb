{
 "cells": [
  {
   "cell_type": "code",
   "execution_count": 1,
   "metadata": {},
   "outputs": [
    {
     "data": {
      "text/plain": [
       "{'mylist': [1.0, 2.0]}"
      ]
     },
     "execution_count": 1,
     "metadata": {},
     "output_type": "execute_result"
    }
   ],
   "source": [
    "s1 = \"hello\"\n",
    "#dir(s1)\n",
    "list(range(0,10,1))\n",
    "#doing dict.keys() and dict.values() gives answers as well. \n",
    "d1 = dict()\n",
    "d1['mylist']=[1.0, 2.0]\n",
    "d1\n",
    "#can update a set as follows:\n",
    "   # set1.update([1, 2, 'hello'])"
   ]
  },
  {
   "cell_type": "code",
   "execution_count": 2,
   "metadata": {},
   "outputs": [
    {
     "name": "stdout",
     "output_type": "stream",
     "text": [
      "[5, 10, 15, 20, 25, 30, 35, 40, 45, 50, 55, 60, 65, 70, 75, 80, 85, 90, 95]\n",
      "[26.0, 101.0, 226.0, 401.0, 626.0, 901.0, 1226.0, 1601.0, 2026.0, 2501.0, 3026.0, 3601.0, 4226.0, 4901.0, 5626.0, 6401.0, 7226.0, 8101.0, 9026.0]\n"
     ]
    },
    {
     "data": {
      "text/plain": [
       "[26.0,\n",
       " 101.0,\n",
       " 226.0,\n",
       " 401.0,\n",
       " 626.0,\n",
       " 901.0,\n",
       " 1226.0,\n",
       " 1601.0,\n",
       " 2026.0,\n",
       " 2501.0,\n",
       " 3026.0,\n",
       " 3601.0,\n",
       " 4226.0,\n",
       " 4901.0,\n",
       " 5626.0,\n",
       " 6401.0,\n",
       " 7226.0,\n",
       " 8101.0,\n",
       " 9026.0]"
      ]
     },
     "execution_count": 2,
     "metadata": {},
     "output_type": "execute_result"
    }
   ],
   "source": [
    "def myf(x):\n",
    "    return x*x+1.0\n",
    "a1 = list(range(5,100,5))\n",
    "amyf = map(myf, a1) #so basically works like a zip function\n",
    "y = list(amyf)\n",
    "print(a1)\n",
    "print(y)\n",
    "list(map(lambda x:x*x+1.0,a1))"
   ]
  },
  {
   "cell_type": "code",
   "execution_count": 3,
   "metadata": {},
   "outputs": [],
   "source": [
    "import matplotlib.pyplot as plt\n",
    "import numpy as np\n",
    "#dir(plt)"
   ]
  },
  {
   "cell_type": "code",
   "execution_count": 4,
   "metadata": {},
   "outputs": [
    {
     "data": {
      "text/plain": [
       "Text(0.5, 1.0, 'first plot')"
      ]
     },
     "execution_count": 4,
     "metadata": {},
     "output_type": "execute_result"
    },
    {
     "data": {
      "image/png": "[encoded data removed]",
      "text/plain": [
       "<Figure size 432x288 with 1 Axes>"
      ]
     },
     "metadata": {
      "needs_background": "light"
     },
     "output_type": "display_data"
    }
   ],
   "source": [
    "plt.plot(a1,y, 'bo-') #'bo-' makes the points bold\n",
    "plt.legend('bello?')\n",
    "plt.xlabel('X axis duh')\n",
    "plt.ylabel('y')\n",
    "plt.title('first plot')\n",
    "#note, that plots using map and or lambda functions are also possible"
   ]
  },
  {
   "cell_type": "code",
   "execution_count": 5,
   "metadata": {},
   "outputs": [
    {
     "name": "stdout",
     "output_type": "stream",
     "text": [
      "[0, 2, 4, 6, 8, 10, 12, 14, 16, 18]\n"
     ]
    },
    {
     "data": {
      "text/plain": [
       "[<matplotlib.lines.Line2D at 0x7fcfbe6c8580>]"
      ]
     },
     "execution_count": 5,
     "metadata": {},
     "output_type": "execute_result"
    },
    {
     "data": {
      "image/png": "[encoded data removed]",
      "text/plain": [
       "<Figure size 432x288 with 1 Axes>"
      ]
     },
     "metadata": {
      "needs_background": "light"
     },
     "output_type": "display_data"
    }
   ],
   "source": [
    "l1 = list(range(0,20,2))\n",
    "print(l1)\n",
    "y2 = list(map(lambda x: x**2, l1))\n",
    "y2\n",
    "plt.plot(l1,y2)"
   ]
  },
  {
   "cell_type": "markdown",
   "metadata": {},
   "source": [
    "The operator \"is\" checks if the two entities are identical by their reference. The operator \"==\" checks if the two entities are same by their value."
   ]
  },
  {
   "cell_type": "code",
   "execution_count": 6,
   "metadata": {},
   "outputs": [
    {
     "name": "stdout",
     "output_type": "stream",
     "text": [
      "[99, 2, 3, 4, 5]\n",
      "[99, 2, 3, 4, 5]\n"
     ]
    }
   ],
   "source": [
    "a=1; id(a) #here it is some identity number given idk\n",
    "#if x is a list, then doing y=x is risky, as then modifying y x can get changed\n",
    "x = [1,2,3,4,5]\n",
    "y = x\n",
    "y[0] = 99\n",
    "print(y)\n",
    "print(x)\n",
    "#so, always do z = x[:] and then do changes on z, whatever you want\n"
   ]
  },
  {
   "cell_type": "code",
   "execution_count": 10,
   "metadata": {},
   "outputs": [
    {
     "name": "stdout",
     "output_type": "stream",
     "text": [
      "Help on function linspace in module numpy:\n",
      "\n",
      "linspace(start, stop, num=50, endpoint=True, retstep=False, dtype=None, axis=0)\n",
      "    Return evenly spaced numbers over a specified interval.\n",
      "    \n",
      "    Returns `num` evenly spaced samples, calculated over the\n",
      "    interval [`start`, `stop`].\n",
      "    \n",
      "    The endpoint of the interval can optionally be excluded.\n",
      "    \n",
      "    .. versionchanged:: 1.16.0\n",
      "        Non-scalar `start` and `stop` are now supported.\n",
      "    \n",
      "    .. versionchanged:: 1.20.0\n",
      "        Values are rounded towards ``-inf`` instead of ``0`` when an\n",
      "        integer ``dtype`` is specified. The old behavior can\n",
      "        still be obtained with ``np.linspace(start, stop, num).astype(int)``\n",
      "    \n",
      "    Parameters\n",
      "    ----------\n",
      "    start : array_like\n",
      "        The starting value of the sequence.\n",
      "    stop : array_like\n",
      "        The end value of the sequence, unless `endpoint` is set to False.\n",
      "        In that case, the sequence consists of all but the last of ``num + 1``\n",
      "        evenly spaced samples, so that `stop` is excluded.  Note that the step\n",
      "        size changes when `endpoint` is False.\n",
      "    num : int, optional\n",
      "        Number of samples to generate. Default is 50. Must be non-negative.\n",
      "    endpoint : bool, optional\n",
      "        If True, `stop` is the last sample. Otherwise, it is not included.\n",
      "        Default is True.\n",
      "    retstep : bool, optional\n",
      "        If True, return (`samples`, `step`), where `step` is the spacing\n",
      "        between samples.\n",
      "    dtype : dtype, optional\n",
      "        The type of the output array.  If `dtype` is not given, the data type\n",
      "        is inferred from `start` and `stop`. The inferred dtype will never be\n",
      "        an integer; `float` is chosen even if the arguments would produce an\n",
      "        array of integers.\n",
      "    \n",
      "        .. versionadded:: 1.9.0\n",
      "    \n",
      "    axis : int, optional\n",
      "        The axis in the result to store the samples.  Relevant only if start\n",
      "        or stop are array-like.  By default (0), the samples will be along a\n",
      "        new axis inserted at the beginning. Use -1 to get an axis at the end.\n",
      "    \n",
      "        .. versionadded:: 1.16.0\n",
      "    \n",
      "    Returns\n",
      "    -------\n",
      "    samples : ndarray\n",
      "        There are `num` equally spaced samples in the closed interval\n",
      "        ``[start, stop]`` or the half-open interval ``[start, stop)``\n",
      "        (depending on whether `endpoint` is True or False).\n",
      "    step : float, optional\n",
      "        Only returned if `retstep` is True\n",
      "    \n",
      "        Size of spacing between samples.\n",
      "    \n",
      "    \n",
      "    See Also\n",
      "    --------\n",
      "    arange : Similar to `linspace`, but uses a step size (instead of the\n",
      "             number of samples).\n",
      "    geomspace : Similar to `linspace`, but with numbers spaced evenly on a log\n",
      "                scale (a geometric progression).\n",
      "    logspace : Similar to `geomspace`, but with the end points specified as\n",
      "               logarithms.\n",
      "    :ref:`how-to-partition`\n",
      "    \n",
      "    Examples\n",
      "    --------\n",
      "    >>> np.linspace(2.0, 3.0, num=5)\n",
      "    array([2.  , 2.25, 2.5 , 2.75, 3.  ])\n",
      "    >>> np.linspace(2.0, 3.0, num=5, endpoint=False)\n",
      "    array([2. ,  2.2,  2.4,  2.6,  2.8])\n",
      "    >>> np.linspace(2.0, 3.0, num=5, retstep=True)\n",
      "    (array([2.  ,  2.25,  2.5 ,  2.75,  3.  ]), 0.25)\n",
      "    \n",
      "    Graphical illustration:\n",
      "    \n",
      "    >>> import matplotlib.pyplot as plt\n",
      "    >>> N = 8\n",
      "    >>> y = np.zeros(N)\n",
      "    >>> x1 = np.linspace(0, 10, N, endpoint=True)\n",
      "    >>> x2 = np.linspace(0, 10, N, endpoint=False)\n",
      "    >>> plt.plot(x1, y, 'o')\n",
      "    [<matplotlib.lines.Line2D object at 0x...>]\n",
      "    >>> plt.plot(x2, y + 0.5, 'o')\n",
      "    [<matplotlib.lines.Line2D object at 0x...>]\n",
      "    >>> plt.ylim([-0.5, 1])\n",
      "    (-0.5, 1)\n",
      "    >>> plt.show()\n",
      "\n"
     ]
    }
   ],
   "source": [
    "help(np.linspace)\n"
   ]
  },
  {
   "cell_type": "code",
   "execution_count": 11,
   "metadata": {},
   "outputs": [
    {
     "data": {
      "text/plain": [
       "array([ 1. ,  2.5,  4. ,  5.5,  7. ,  8.5, 10. ])"
      ]
     },
     "execution_count": 11,
     "metadata": {},
     "output_type": "execute_result"
    }
   ],
   "source": [
    "#.shape and .reshape can change matrix sizes etc\n",
    "np.linspace(1,10, num = 7)"
   ]
  },
  {
   "cell_type": "code",
   "execution_count": 1,
   "metadata": {},
   "outputs": [
    {
     "data": {
      "text/plain": [
       "'/home/ojasp/ID2090'"
      ]
     },
     "execution_count": 1,
     "metadata": {},
     "output_type": "execute_result"
    }
   ],
   "source": [
    "%pwd\n",
    "#d1 = np.genfromtxt('numpy_trial.txt', delimiter=',')"
   ]
  },
  {
   "cell_type": "code",
   "execution_count": 4,
   "metadata": {},
   "outputs": [
    {
     "name": "stdout",
     "output_type": "stream",
     "text": [
      "Help on function contourf in module matplotlib.pyplot:\n",
      "\n",
      "contourf(*args, data=None, **kwargs)\n",
      "    Plot contours.\n",
      "    \n",
      "    Call signature::\n",
      "    \n",
      "        contour([X, Y,] Z, [levels], **kwargs)\n",
      "    \n",
      "    `.contour` and `.contourf` draw contour lines and filled contours,\n",
      "    respectively.  Except as noted, function signatures and return values\n",
      "    are the same for both versions.\n",
      "    \n",
      "    Parameters\n",
      "    ----------\n",
      "    X, Y : array-like, optional\n",
      "        The coordinates of the values in *Z*.\n",
      "    \n",
      "        *X* and *Y* must both be 2-D with the same shape as *Z* (e.g.\n",
      "        created via `numpy.meshgrid`), or they must both be 1-D such\n",
      "        that ``len(X) == M`` is the number of columns in *Z* and\n",
      "        ``len(Y) == N`` is the number of rows in *Z*.\n",
      "    \n",
      "        If not given, they are assumed to be integer indices, i.e.\n",
      "        ``X = range(M)``, ``Y = range(N)``.\n",
      "    \n",
      "    Z : array-like(N, M)\n",
      "        The height values over which the contour is drawn.\n",
      "    \n",
      "    levels : int or array-like, optional\n",
      "        Determines the number and positions of the contour lines / regions.\n",
      "    \n",
      "        If an int *n*, use *n* data intervals; i.e. draw *n+1* contour\n",
      "        lines. The level heights are automatically chosen.\n",
      "    \n",
      "        If array-like, draw contour lines at the specified levels.\n",
      "        The values must be in increasing order.\n",
      "    \n",
      "    Returns\n",
      "    -------\n",
      "    c : `~.contour.QuadContourSet`\n",
      "    \n",
      "    Other Parameters\n",
      "    ----------------\n",
      "    corner_mask : bool, optional\n",
      "        Enable/disable corner masking, which only has an effect if *Z* is\n",
      "        a masked array.  If ``False``, any quad touching a masked point is\n",
      "        masked out.  If ``True``, only the triangular corners of quads\n",
      "        nearest those points are always masked out, other triangular\n",
      "        corners comprising three unmasked points are contoured as usual.\n",
      "    \n",
      "        Defaults to :rc:`contour.corner_mask`, which defaults to ``True``.\n",
      "    \n",
      "    colors : color string or sequence of colors, optional\n",
      "        The colors of the levels, i.e. the lines for `.contour` and the\n",
      "        areas for `.contourf`.\n",
      "    \n",
      "        The sequence is cycled for the levels in ascending order. If the\n",
      "        sequence is shorter than the number of levels, it's repeated.\n",
      "    \n",
      "        As a shortcut, single color strings may be used in place of\n",
      "        one-element lists, i.e. ``'red'`` instead of ``['red']`` to color\n",
      "        all levels with the same color. This shortcut does only work for\n",
      "        color strings, not for other ways of specifying colors.\n",
      "    \n",
      "        By default (value *None*), the colormap specified by *cmap*\n",
      "        will be used.\n",
      "    \n",
      "    alpha : float, optional\n",
      "        The alpha blending value, between 0 (transparent) and 1 (opaque).\n",
      "    \n",
      "    cmap : str or `.Colormap`, optional\n",
      "        A `.Colormap` instance or registered colormap name. The colormap\n",
      "        maps the level values to colors.\n",
      "        Defaults to :rc:`image.cmap`.\n",
      "    \n",
      "        If both *colors* and *cmap* are given, an error is raised.\n",
      "    \n",
      "    norm : `~matplotlib.colors.Normalize`, optional\n",
      "        If a colormap is used, the `.Normalize` instance scales the level\n",
      "        values to the canonical colormap range [0, 1] for mapping to\n",
      "        colors. If not given, the default linear scaling is used.\n",
      "    \n",
      "    vmin, vmax : float, optional\n",
      "        If not *None*, either or both of these values will be supplied to\n",
      "        the `.Normalize` instance, overriding the default color scaling\n",
      "        based on *levels*.\n",
      "    \n",
      "    origin : {*None*, 'upper', 'lower', 'image'}, optional\n",
      "        Determines the orientation and exact position of *Z* by specifying\n",
      "        the position of ``Z[0, 0]``.  This is only relevant, if *X*, *Y*\n",
      "        are not given.\n",
      "    \n",
      "        - *None*: ``Z[0, 0]`` is at X=0, Y=0 in the lower left corner.\n",
      "        - 'lower': ``Z[0, 0]`` is at X=0.5, Y=0.5 in the lower left corner.\n",
      "        - 'upper': ``Z[0, 0]`` is at X=N+0.5, Y=0.5 in the upper left\n",
      "          corner.\n",
      "        - 'image': Use the value from :rc:`image.origin`.\n",
      "    \n",
      "    extent : (x0, x1, y0, y1), optional\n",
      "        If *origin* is not *None*, then *extent* is interpreted as in\n",
      "        `.imshow`: it gives the outer pixel boundaries. In this case, the\n",
      "        position of Z[0,0] is the center of the pixel, not a corner. If\n",
      "        *origin* is *None*, then (*x0*, *y0*) is the position of Z[0,0],\n",
      "        and (*x1*, *y1*) is the position of Z[-1,-1].\n",
      "    \n",
      "        This argument is ignored if *X* and *Y* are specified in the call\n",
      "        to contour.\n",
      "    \n",
      "    locator : ticker.Locator subclass, optional\n",
      "        The locator is used to determine the contour levels if they\n",
      "        are not given explicitly via *levels*.\n",
      "        Defaults to `~.ticker.MaxNLocator`.\n",
      "    \n",
      "    extend : {'neither', 'both', 'min', 'max'}, optional, default: 'neither'\n",
      "        Determines the ``contourf``-coloring of values that are outside the\n",
      "        *levels* range.\n",
      "    \n",
      "        If 'neither', values outside the *levels* range are not colored.\n",
      "        If 'min', 'max' or 'both', color the values below, above or below\n",
      "        and above the *levels* range.\n",
      "    \n",
      "        Values below ``min(levels)`` and above ``max(levels)`` are mapped\n",
      "        to the under/over values of the `.Colormap`. Note, that most\n",
      "        colormaps do not have dedicated colors for these by default, so\n",
      "        that the over and under values are the edge values of the colormap.\n",
      "        You may want to set these values explicitly using\n",
      "        `.Colormap.set_under` and `.Colormap.set_over`.\n",
      "    \n",
      "        .. note::\n",
      "    \n",
      "            An exising `.QuadContourSet` does not get notified if\n",
      "            properties of its colormap are changed. Therefore, an explicit\n",
      "            call `.QuadContourSet.changed()` is needed after modifying the\n",
      "            colormap. The explicit call can be left out, if a colorbar is\n",
      "            assigned to the `.QuadContourSet` because it internally calls\n",
      "            `.QuadContourSet.changed()`.\n",
      "    \n",
      "        Example::\n",
      "    \n",
      "            x = np.arange(1, 10)\n",
      "            y = x.reshape(-1, 1)\n",
      "            h = x * y\n",
      "    \n",
      "            cs = plt.contourf(h, levels=[10, 30, 50],\n",
      "                colors=['#808080', '#A0A0A0', '#C0C0C0'], extend='both')\n",
      "            cs.cmap.set_over('red')\n",
      "            cs.cmap.set_under('blue')\n",
      "            cs.changed()\n",
      "    \n",
      "    xunits, yunits : registered units, optional\n",
      "        Override axis units by specifying an instance of a\n",
      "        :class:`matplotlib.units.ConversionInterface`.\n",
      "    \n",
      "    antialiased : bool, optional\n",
      "        Enable antialiasing, overriding the defaults.  For\n",
      "        filled contours, the default is *True*.  For line contours,\n",
      "        it is taken from :rc:`lines.antialiased`.\n",
      "    \n",
      "    Nchunk : int >= 0, optional\n",
      "        If 0, no subdivision of the domain.  Specify a positive integer to\n",
      "        divide the domain into subdomains of *nchunk* by *nchunk* quads.\n",
      "        Chunking reduces the maximum length of polygons generated by the\n",
      "        contouring algorithm which reduces the rendering workload passed\n",
      "        on to the backend and also requires slightly less RAM.  It can\n",
      "        however introduce rendering artifacts at chunk boundaries depending\n",
      "        on the backend, the *antialiased* flag and value of *alpha*.\n",
      "    \n",
      "    linewidths : float or sequence of float, optional\n",
      "        *Only applies to* `.contour`.\n",
      "    \n",
      "        The line width of the contour lines.\n",
      "    \n",
      "        If a number, all levels will be plotted with this linewidth.\n",
      "    \n",
      "        If a sequence, the levels in ascending order will be plotted with\n",
      "        the linewidths in the order specified.\n",
      "    \n",
      "        Defaults to :rc:`lines.linewidth`.\n",
      "    \n",
      "    linestyles : {*None*, 'solid', 'dashed', 'dashdot', 'dotted'}, optional\n",
      "        *Only applies to* `.contour`.\n",
      "    \n",
      "        If *linestyles* is *None*, the default is 'solid' unless the lines\n",
      "        are monochrome.  In that case, negative contours will take their\n",
      "        linestyle from :rc:`contour.negative_linestyle` setting.\n",
      "    \n",
      "        *linestyles* can also be an iterable of the above strings\n",
      "        specifying a set of linestyles to be used. If this\n",
      "        iterable is shorter than the number of contour levels\n",
      "        it will be repeated as necessary.\n",
      "    \n",
      "    hatches : List[str], optional\n",
      "        *Only applies to* `.contourf`.\n",
      "    \n",
      "        A list of cross hatch patterns to use on the filled areas.\n",
      "        If None, no hatching will be added to the contour.\n",
      "        Hatching is supported in the PostScript, PDF, SVG and Agg\n",
      "        backends only.\n",
      "    \n",
      "    Notes\n",
      "    -----\n",
      "    1. `.contourf` differs from the MATLAB version in that it does not draw\n",
      "       the polygon edges. To draw edges, add line contours with calls to\n",
      "       `.contour`.\n",
      "    \n",
      "    2. `.contourf` fills intervals that are closed at the top; that is, for\n",
      "       boundaries *z1* and *z2*, the filled region is::\n",
      "    \n",
      "          z1 < Z <= z2\n",
      "    \n",
      "       except for the lowest interval, which is closed on both sides (i.e.\n",
      "       it includes the lowest value).\n",
      "\n"
     ]
    }
   ],
   "source": [
    "help(plt.contourf)"
   ]
  },
  {
   "cell_type": "code",
   "execution_count": 6,
   "metadata": {
    "scrolled": true
   },
   "outputs": [
    {
     "name": "stdout",
     "output_type": "stream",
     "text": [
      "[0.0, 0.4, 0.8, 1.2000000000000002, 1.6, 2.0, 2.4000000000000004, 2.8000000000000003, 3.2, 3.6, 4.0, 4.4, 4.800000000000001, 5.2, 5.6000000000000005, 6.0, 6.4, 6.800000000000001, 7.2, 7.6000000000000005, 8.0, 8.4, 8.8, 9.200000000000001, 9.600000000000001, 10.0, 10.4, 10.8, 11.200000000000001, 11.600000000000001, 12.0, 12.4, 12.8, 13.200000000000001, 13.600000000000001, 14.0, 14.4, 14.8, 15.200000000000001, 15.600000000000001, 16.0, 16.400000000000002, 16.8, 17.2, 17.6, 18.0, 18.400000000000002, 18.8, 19.200000000000003, 19.6]\n"
     ]
    }
   ],
   "source": [
    "print(list(map(lambda a: a*0.4, list(range(0,50,1)))))"
   ]
  },
  {
   "cell_type": "code",
   "execution_count": 9,
   "metadata": {},
   "outputs": [
    {
     "name": "stdout",
     "output_type": "stream",
     "text": [
      "Help on function ravel in module numpy:\n",
      "\n",
      "ravel(a, order='C')\n",
      "    Return a contiguous flattened array.\n",
      "    \n",
      "    A 1-D array, containing the elements of the input, is returned.  A copy is\n",
      "    made only if needed.\n",
      "    \n",
      "    As of NumPy 1.10, the returned array will have the same type as the input\n",
      "    array. (for example, a masked array will be returned for a masked array\n",
      "    input)\n",
      "    \n",
      "    Parameters\n",
      "    ----------\n",
      "    a : array_like\n",
      "        Input array.  The elements in `a` are read in the order specified by\n",
      "        `order`, and packed as a 1-D array.\n",
      "    order : {'C','F', 'A', 'K'}, optional\n",
      "    \n",
      "        The elements of `a` are read using this index order. 'C' means\n",
      "        to index the elements in row-major, C-style order,\n",
      "        with the last axis index changing fastest, back to the first\n",
      "        axis index changing slowest.  'F' means to index the elements\n",
      "        in column-major, Fortran-style order, with the\n",
      "        first index changing fastest, and the last index changing\n",
      "        slowest. Note that the 'C' and 'F' options take no account of\n",
      "        the memory layout of the underlying array, and only refer to\n",
      "        the order of axis indexing.  'A' means to read the elements in\n",
      "        Fortran-like index order if `a` is Fortran *contiguous* in\n",
      "        memory, C-like order otherwise.  'K' means to read the\n",
      "        elements in the order they occur in memory, except for\n",
      "        reversing the data when strides are negative.  By default, 'C'\n",
      "        index order is used.\n",
      "    \n",
      "    Returns\n",
      "    -------\n",
      "    y : array_like\n",
      "        y is an array of the same subtype as `a`, with shape ``(a.size,)``.\n",
      "        Note that matrices are special cased for backward compatibility, if `a`\n",
      "        is a matrix, then y is a 1-D ndarray.\n",
      "    \n",
      "    See Also\n",
      "    --------\n",
      "    ndarray.flat : 1-D iterator over an array.\n",
      "    ndarray.flatten : 1-D array copy of the elements of an array\n",
      "                      in row-major order.\n",
      "    ndarray.reshape : Change the shape of an array without changing its data.\n",
      "    \n",
      "    Notes\n",
      "    -----\n",
      "    In row-major, C-style order, in two dimensions, the row index\n",
      "    varies the slowest, and the column index the quickest.  This can\n",
      "    be generalized to multiple dimensions, where row-major order\n",
      "    implies that the index along the first axis varies slowest, and\n",
      "    the index along the last quickest.  The opposite holds for\n",
      "    column-major, Fortran-style index ordering.\n",
      "    \n",
      "    When a view is desired in as many cases as possible, ``arr.reshape(-1)``\n",
      "    may be preferable.\n",
      "    \n",
      "    Examples\n",
      "    --------\n",
      "    It is equivalent to ``reshape(-1, order=order)``.\n",
      "    \n",
      "    >>> x = np.array([[1, 2, 3], [4, 5, 6]])\n",
      "    >>> np.ravel(x)\n",
      "    array([1, 2, 3, 4, 5, 6])\n",
      "    \n",
      "    >>> x.reshape(-1)\n",
      "    array([1, 2, 3, 4, 5, 6])\n",
      "    \n",
      "    >>> np.ravel(x, order='F')\n",
      "    array([1, 4, 2, 5, 3, 6])\n",
      "    \n",
      "    When ``order`` is 'A', it will preserve the array's 'C' or 'F' ordering:\n",
      "    \n",
      "    >>> np.ravel(x.T)\n",
      "    array([1, 4, 2, 5, 3, 6])\n",
      "    >>> np.ravel(x.T, order='A')\n",
      "    array([1, 2, 3, 4, 5, 6])\n",
      "    \n",
      "    When ``order`` is 'K', it will preserve orderings that are neither 'C'\n",
      "    nor 'F', but won't reverse axes:\n",
      "    \n",
      "    >>> a = np.arange(3)[::-1]; a\n",
      "    array([2, 1, 0])\n",
      "    >>> a.ravel(order='C')\n",
      "    array([2, 1, 0])\n",
      "    >>> a.ravel(order='K')\n",
      "    array([2, 1, 0])\n",
      "    \n",
      "    >>> a = np.arange(12).reshape(2,3,2).swapaxes(1,2); a\n",
      "    array([[[ 0,  2,  4],\n",
      "            [ 1,  3,  5]],\n",
      "           [[ 6,  8, 10],\n",
      "            [ 7,  9, 11]]])\n",
      "    >>> a.ravel(order='C')\n",
      "    array([ 0,  2,  4,  1,  3,  5,  6,  8, 10,  7,  9, 11])\n",
      "    >>> a.ravel(order='K')\n",
      "    array([ 0,  1,  2,  3,  4,  5,  6,  7,  8,  9, 10, 11])\n",
      "\n"
     ]
    },
    {
     "data": {
      "image/png": "[encoded data removed]",
      "text/plain": [
       "<Figure size 432x288 with 1 Axes>"
      ]
     },
     "metadata": {
      "needs_background": "light"
     },
     "output_type": "display_data"
    }
   ],
   "source": [
    "from mpl_toolkits.mplot3d import Axes3D\n",
    "from matplotlib import cm\n",
    "from matplotlib.ticker import LinearLocator, FormatStrFormatter\n",
    "\n",
    "fig = plt.figure()\n",
    "ax = fig.gca(projection='3d')\n",
    "\n",
    "help(np.ravel)"
   ]
  },
  {
   "cell_type": "code",
   "execution_count": 20,
   "metadata": {},
   "outputs": [
    {
     "name": "stderr",
     "output_type": "stream",
     "text": [
      "<ipython-input-20-97e225805f37>:3: UserWarning: genfromtxt: Empty input file: \"./expdata.csv\"\n",
      "  d1 = np.genfromtxt('./expdata.csv', delimiter=',', usecols=(0,1), skip_header=1)\n"
     ]
    },
    {
     "data": {
      "text/plain": [
       "array([], dtype=float64)"
      ]
     },
     "execution_count": 20,
     "metadata": {},
     "output_type": "execute_result"
    }
   ],
   "source": [
    "%pwd\n",
    "import numpy as np\n",
    "d1 = np.genfromtxt('./expdata.csv', delimiter=',', usecols=(0,1), skip_header=1)\n",
    "d1"
   ]
  },
  {
   "cell_type": "code",
   "execution_count": 13,
   "metadata": {},
   "outputs": [
    {
     "name": "stdout",
     "output_type": "stream",
     "text": [
      "1,2,3,4,5,6,7,12,14,16,18\r\n"
     ]
    }
   ],
   "source": [
    "%cat expdata.csv"
   ]
  }
 ],
 "metadata": {
  "kernelspec": {
   "display_name": "Python 3",
   "language": "python",
   "name": "python3"
  },
  "language_info": {
   "codemirror_mode": {
    "name": "ipython",
    "version": 3
   },
   "file_extension": ".py",
   "mimetype": "text/x-python",
   "name": "python",
   "nbconvert_exporter": "python",
   "pygments_lexer": "ipython3",
   "version": "3.8.10"
  }
 },
 "nbformat": 4,
 "nbformat_minor": 4
}
