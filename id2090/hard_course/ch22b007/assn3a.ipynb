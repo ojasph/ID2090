{
 "cells": [
  {
   "cell_type": "code",
   "execution_count": 1,
   "metadata": {},
   "outputs": [
    {
     "name": "stdout",
     "output_type": "stream",
     "text": [
      "Enter the value of lambda: 0.2\n",
      "Enter the value of number of iterations: 120\n"
     ]
    },
    {
     "data": {
      "text/plain": [
       "Text(0.5, 1.0, 'Final Plot')"
      ]
     },
     "execution_count": 1,
     "metadata": {},
     "output_type": "execute_result"
    },
    {
     "data": {
      "image/png": "[encoded data removed]",
      "text/plain": [
       "<Figure size 432x288 with 2 Axes>"
      ]
     },
     "metadata": {
      "needs_background": "light"
     },
     "output_type": "display_data"
    }
   ],
   "source": [
    "%matplotlib inline\n",
    "import matplotlib.pyplot as plt\n",
    "import numpy as np\n",
    "\n",
    "z = [[0]*100, [0]*100]\n",
    "for i in range(100):\n",
    "    z[0][i], z[1][i] = i + 1, i + 1\n",
    "\n",
    "T = np.zeros([100, 100])    \n",
    "\n",
    "for i in range(100):\n",
    "    for j in range(100):\n",
    "        if (z[0][i] - 50.5)**2 + (z[1][j] - 50.5)**2 < 25**2:\n",
    "             T[i,j] = 100\n",
    "        else:\n",
    "            T[i,j] = 0\n",
    "\n",
    "def ChangingTimes(n, lamb):\n",
    "    for k in range(n):\n",
    "        for i in range(1,99):\n",
    "            for j in range(1,99):\n",
    "                T[i,j] = T[i,j] + lamb*(T[i+1,j] +T[i-1,j] + T[i, j+1] + T[i, j-1] - 4*T[i,j])\n",
    "        for p in range(0,100):\n",
    "            T[0,p] = T[1,p]\n",
    "            T[99,p] = T[98,p]\n",
    "        for q in range(0,100):\n",
    "            T[q,0] = T[q,1]\n",
    "            T[q,99] = T[q,98]\n",
    "\n",
    "lamb = float(input('Enter the value of lambda: '))\n",
    "n = int(input('Enter the value of number of iterations: '))\n",
    "\n",
    "ChangingTimes(n, lamb)\n",
    "\n",
    "plt.imshow(T,  vmin = 1, vmax = 100, extent =[1, 100, 1, 100], interpolation ='nearest', origin ='lower')\n",
    "plt.contourf(z[0], z[1], T)\n",
    "plt.colorbar()\n",
    "plt.xlabel('X axis')\n",
    "plt.ylabel('Y axis')\n",
    "plt.title('Final Plot')"
   ]
  },
  {
   "cell_type": "code",
   "execution_count": null,
   "metadata": {},
   "outputs": [],
   "source": []
  }
 ],
 "metadata": {
  "kernelspec": {
   "display_name": "Python 3",
   "language": "python",
   "name": "python3"
  },
  "language_info": {
   "codemirror_mode": {
    "name": "ipython",
    "version": 3
   },
   "file_extension": ".py",
   "mimetype": "text/x-python",
   "name": "python",
   "nbconvert_exporter": "python",
   "pygments_lexer": "ipython3",
   "version": "3.8.10"
  }
 },
 "nbformat": 4,
 "nbformat_minor": 4
}
