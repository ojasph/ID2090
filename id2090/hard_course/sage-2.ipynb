{
 "cells": [
  {
   "cell_type": "markdown",
   "metadata": {},
   "source": [
    "# Manipulation of Symbolic Expressions \n",
    "\n",
    "In this notebook we explore manipulations that can be done with expressions. We need to inform sage that we are using certain symbols as variables. To start with, let's use x and y as such symbols."
   ]
  },
  {
   "cell_type": "code",
   "execution_count": 1,
   "metadata": {},
   "outputs": [
    {
     "data": {
      "text/plain": [
       "(x, y)"
      ]
     },
     "execution_count": 1,
     "metadata": {},
     "output_type": "execute_result"
    }
   ],
   "source": [
    "var('x,y')"
   ]
  },
  {
   "cell_type": "markdown",
   "metadata": {},
   "source": [
    "## Rational functions\n",
    "\n",
    "Using sage, we can work with expressions to make them easier to perform other operations later."
   ]
  },
  {
   "cell_type": "code",
   "execution_count": 2,
   "metadata": {},
   "outputs": [
    {
     "data": {
      "text/html": [
       "<html><script type=\"math/tex; mode=display\">\\newcommand{\\Bold}[1]{\\mathbf{#1}}\\frac{x + 1}{{\\left(x + 2\\right)}^{3} x^{2}}</script></html>"
      ],
      "text/plain": [
       "(x + 1)/((x + 2)^3*x^2)"
      ]
     },
     "metadata": {},
     "output_type": "display_data"
    }
   ],
   "source": [
    "expr = (x+1)/(x^2*(x+2)^3)\n",
    "expr.show()"
   ]
  },
  {
   "cell_type": "code",
   "execution_count": 3,
   "metadata": {},
   "outputs": [
    {
     "data": {
      "text/html": [
       "<html><script type=\"math/tex; mode=display\">\\newcommand{\\Bold}[1]{\\mathbf{#1}}x + 1</script></html>"
      ],
      "text/plain": [
       "x + 1"
      ]
     },
     "metadata": {},
     "output_type": "display_data"
    }
   ],
   "source": [
    "expr.numerator().show()"
   ]
  },
  {
   "cell_type": "code",
   "execution_count": 4,
   "metadata": {},
   "outputs": [
    {
     "data": {
      "text/html": [
       "<html><script type=\"math/tex; mode=display\">\\newcommand{\\Bold}[1]{\\mathbf{#1}}{\\left(x + 2\\right)}^{3} x^{2}</script></html>"
      ],
      "text/plain": [
       "(x + 2)^3*x^2"
      ]
     },
     "metadata": {},
     "output_type": "display_data"
    }
   ],
   "source": [
    "expr.denominator().show()"
   ]
  },
  {
   "cell_type": "markdown",
   "metadata": {},
   "source": [
    "The above expression can be converted to a rational one."
   ]
  },
  {
   "cell_type": "code",
   "execution_count": 5,
   "metadata": {
    "scrolled": true
   },
   "outputs": [
    {
     "data": {
      "text/html": [
       "<html><script type=\"math/tex; mode=display\">\\newcommand{\\Bold}[1]{\\mathbf{#1}}\\frac{1}{{\\left(x^{3} + 6 \\, x^{2} + 12 \\, x + 8\\right)} x} + \\frac{1}{{\\left(x^{3} + 6 \\, x^{2} + 12 \\, x + 8\\right)} x^{2}}</script></html>"
      ],
      "text/plain": [
       "1/((x^3 + 6*x^2 + 12*x + 8)*x) + 1/((x^3 + 6*x^2 + 12*x + 8)*x^2)"
      ]
     },
     "metadata": {},
     "output_type": "display_data"
    }
   ],
   "source": [
    "expr.expand_rational().show()"
   ]
  },
  {
   "cell_type": "markdown",
   "metadata": {},
   "source": [
    "For ease of use in integration etc., you can convert the expression to partial fractions."
   ]
  },
  {
   "cell_type": "code",
   "execution_count": 6,
   "metadata": {},
   "outputs": [
    {
     "data": {
      "text/html": [
       "<html><script type=\"math/tex; mode=display\">\\newcommand{\\Bold}[1]{\\mathbf{#1}}\\frac{1}{16 \\, {\\left(x + 2\\right)}} - \\frac{1}{16 \\, x} + \\frac{1}{8 \\, x^{2}} - \\frac{1}{4 \\, {\\left(x + 2\\right)}^{3}}</script></html>"
      ],
      "text/plain": [
       "1/16/(x + 2) - 1/16/x + 1/8/x^2 - 1/4/(x + 2)^3"
      ]
     },
     "metadata": {},
     "output_type": "display_data"
    }
   ],
   "source": [
    "expr.partial_fraction().show()"
   ]
  },
  {
   "cell_type": "markdown",
   "metadata": {},
   "source": [
    "## Substitutions\n",
    "\n",
    "Sometimes we need to do a variable substitution for further processing. This is quite easy in sage. The alias for substitute is subs."
   ]
  },
  {
   "cell_type": "code",
   "execution_count": 7,
   "metadata": {},
   "outputs": [
    {
     "data": {
      "text/html": [
       "<html><script type=\"math/tex; mode=display\">\\newcommand{\\Bold}[1]{\\mathbf{#1}}x^{2} + {\\left(x - 3\\right)} \\cos\\left(x - 3\\right) - 6 \\, x + \\frac{1}{x} + 9</script></html>"
      ],
      "text/plain": [
       "x^2 + (x - 3)*cos(x - 3) - 6*x + 1/x + 9"
      ]
     },
     "metadata": {},
     "output_type": "display_data"
    }
   ],
   "source": [
    "expr2 = 1/x + x^2 + 9 - 6*x + (x-3)*cos(x-3)\n",
    "expr2.show()"
   ]
  },
  {
   "cell_type": "code",
   "execution_count": 8,
   "metadata": {},
   "outputs": [
    {
     "data": {
      "text/html": [
       "<html><script type=\"math/tex; mode=display\">\\newcommand{\\Bold}[1]{\\mathbf{#1}}{\\left(t + 3\\right)}^{2} + t \\cos\\left(t\\right) - 6 \\, t + \\frac{1}{t + 3} - 9</script></html>"
      ],
      "text/plain": [
       "(t + 3)^2 + t*cos(t) - 6*t + 1/(t + 3) - 9"
      ]
     },
     "metadata": {},
     "output_type": "display_data"
    }
   ],
   "source": [
    "var('t')\n",
    "expr2.substitute(x==(t+3)).show()\n"
   ]
  },
  {
   "cell_type": "markdown",
   "metadata": {},
   "source": [
    "It is a good idea to store the rule of substitution separately so we can reuse them later such as in a derivation. "
   ]
  },
  {
   "cell_type": "code",
   "execution_count": 9,
   "metadata": {},
   "outputs": [
    {
     "data": {
      "text/html": [
       "<html><script type=\"math/tex; mode=display\">\\newcommand{\\Bold}[1]{\\mathbf{#1}}x = t + 3</script></html>"
      ],
      "text/plain": [
       "x == t + 3"
      ]
     },
     "metadata": {},
     "output_type": "display_data"
    },
    {
     "data": {
      "text/html": [
       "<html><script type=\"math/tex; mode=display\">\\newcommand{\\Bold}[1]{\\mathbf{#1}}t^{2} + t \\cos\\left(t\\right) + \\frac{1}{t + 3}</script></html>"
      ],
      "text/plain": [
       "t^2 + t*cos(t) + 1/(t + 3)"
      ]
     },
     "metadata": {},
     "output_type": "display_data"
    }
   ],
   "source": [
    "rule1 = x == t+3\n",
    "rule1.show()\n",
    "expr2.subs(rule1).expand().show()"
   ]
  },
  {
   "cell_type": "markdown",
   "metadata": {},
   "source": [
    "## Manipulating Trigonometric Expressions"
   ]
  },
  {
   "cell_type": "code",
   "execution_count": 10,
   "metadata": {},
   "outputs": [
    {
     "data": {
      "text/html": [
       "<html><script type=\"math/tex; mode=display\">\\newcommand{\\Bold}[1]{\\mathbf{#1}}\\cos\\left(x\\right)^{2} \\sin\\left(x\\right)^{2} + \\sin\\left(y\\right)^{2}</script></html>"
      ],
      "text/plain": [
       "cos(x)^2*sin(x)^2 + sin(y)^2"
      ]
     },
     "metadata": {},
     "output_type": "display_data"
    }
   ],
   "source": [
    "texp1 = sin(x)^2*cos(x)^2+sin(y)^2\n",
    "texp1.show()"
   ]
  },
  {
   "cell_type": "markdown",
   "metadata": {},
   "source": [
    "Trigonometric reduction can be done either of the two ways below."
   ]
  },
  {
   "cell_type": "code",
   "execution_count": 11,
   "metadata": {},
   "outputs": [
    {
     "data": {
      "text/html": [
       "<html><script type=\"math/tex; mode=display\">\\newcommand{\\Bold}[1]{\\mathbf{#1}}-\\frac{1}{8} \\, \\cos\\left(4 \\, x\\right) - \\frac{1}{2} \\, \\cos\\left(2 \\, y\\right) + \\frac{5}{8}</script></html>"
      ],
      "text/plain": [
       "-1/8*cos(4*x) - 1/2*cos(2*y) + 5/8"
      ]
     },
     "metadata": {},
     "output_type": "display_data"
    }
   ],
   "source": [
    "texp2 = texp1.trig_reduce()\n",
    "texp2.show()"
   ]
  },
  {
   "cell_type": "code",
   "execution_count": 12,
   "metadata": {},
   "outputs": [
    {
     "data": {
      "text/html": [
       "<html><script type=\"math/tex; mode=display\">\\newcommand{\\Bold}[1]{\\mathbf{#1}}-\\frac{1}{8} \\, \\cos\\left(4 \\, x\\right) - \\frac{1}{2} \\, \\cos\\left(2 \\, y\\right) + \\frac{5}{8}</script></html>"
      ],
      "text/plain": [
       "-1/8*cos(4*x) - 1/2*cos(2*y) + 5/8"
      ]
     },
     "metadata": {},
     "output_type": "display_data"
    }
   ],
   "source": [
    "texp2 = texp1.reduce_trig()\n",
    "texp2.show()"
   ]
  },
  {
   "cell_type": "markdown",
   "metadata": {},
   "source": [
    "Trigonometric simplification will use known identities."
   ]
  },
  {
   "cell_type": "code",
   "execution_count": 13,
   "metadata": {},
   "outputs": [
    {
     "data": {
      "text/html": [
       "<html><script type=\"math/tex; mode=display\">\\newcommand{\\Bold}[1]{\\mathbf{#1}}2 \\, \\cos\\left(x\\right)^{3} \\sin\\left(x\\right) + 2 \\, \\cos\\left(x\\right) \\sin\\left(x\\right)^{3}</script></html>"
      ],
      "text/plain": [
       "2*cos(x)^3*sin(x) + 2*cos(x)*sin(x)^3"
      ]
     },
     "metadata": {},
     "output_type": "display_data"
    },
    {
     "data": {
      "text/html": [
       "<html><script type=\"math/tex; mode=display\">\\newcommand{\\Bold}[1]{\\mathbf{#1}}2 \\, \\cos\\left(x\\right) \\sin\\left(x\\right)</script></html>"
      ],
      "text/plain": [
       "2*cos(x)*sin(x)"
      ]
     },
     "metadata": {},
     "output_type": "display_data"
    },
    {
     "data": {
      "text/html": [
       "<html><script type=\"math/tex; mode=display\">\\newcommand{\\Bold}[1]{\\mathbf{#1}}\\sin\\left(2 \\, x\\right)</script></html>"
      ],
      "text/plain": [
       "sin(2*x)"
      ]
     },
     "metadata": {},
     "output_type": "display_data"
    }
   ],
   "source": [
    "texp3a = 2*sin(x)^3 * cos(x) + 2*sin(x) * cos(x)^3\n",
    "texp3a.show()\n",
    "texp3b = texp3a.trig_simplify()\n",
    "texp3b.show()\n",
    "texp3c = texp3b.trig_reduce()\n",
    "texp3c.show()"
   ]
  },
  {
   "cell_type": "markdown",
   "metadata": {},
   "source": [
    "The function simplify_full the same as just simplify."
   ]
  },
  {
   "cell_type": "code",
   "execution_count": 14,
   "metadata": {},
   "outputs": [
    {
     "data": {
      "text/html": [
       "<html><script type=\"math/tex; mode=display\">\\newcommand{\\Bold}[1]{\\mathbf{#1}}\\frac{\\sin\\left(2 \\, x\\right) + \\sin\\left(x\\right)}{\\cos\\left(2 \\, x\\right) + \\cos\\left(x\\right) + 1}</script></html>"
      ],
      "text/plain": [
       "(sin(2*x) + sin(x))/(cos(2*x) + cos(x) + 1)"
      ]
     },
     "metadata": {},
     "output_type": "display_data"
    },
    {
     "data": {
      "text/html": [
       "<html><script type=\"math/tex; mode=display\">\\newcommand{\\Bold}[1]{\\mathbf{#1}}\\frac{\\sin\\left(2 \\, x\\right) + \\sin\\left(x\\right)}{\\cos\\left(2 \\, x\\right) + \\cos\\left(x\\right) + 1}</script></html>"
      ],
      "text/plain": [
       "(sin(2*x) + sin(x))/(cos(2*x) + cos(x) + 1)"
      ]
     },
     "metadata": {},
     "output_type": "display_data"
    },
    {
     "data": {
      "text/html": [
       "<html><script type=\"math/tex; mode=display\">\\newcommand{\\Bold}[1]{\\mathbf{#1}}\\frac{\\sin\\left(x\\right)}{\\cos\\left(x\\right)}</script></html>"
      ],
      "text/plain": [
       "sin(x)/cos(x)"
      ]
     },
     "metadata": {},
     "output_type": "display_data"
    }
   ],
   "source": [
    "texp4a = (sin(x) + sin(2*x))/(1 + cos(x) + cos(2*x))\n",
    "texp4a.show()\n",
    "texp4b = texp4a.simplify()\n",
    "texp4b.show()\n",
    "texp4b = texp4a.simplify_full()\n",
    "texp4b.show()"
   ]
  },
  {
   "cell_type": "markdown",
   "metadata": {},
   "source": [
    "## Logarithms"
   ]
  },
  {
   "cell_type": "code",
   "execution_count": 15,
   "metadata": {},
   "outputs": [
    {
     "data": {
      "text/html": [
       "<html><script type=\"math/tex; mode=display\">\\newcommand{\\Bold}[1]{\\mathbf{#1}}\\log\\left(\\frac{\\sqrt{x^{3}} \\cos\\left(x\\right)}{\\sqrt{x + 3} \\sin\\left(x\\right)}\\right)</script></html>"
      ],
      "text/plain": [
       "log(sqrt(x^3)*cos(x)/(sqrt(x + 3)*sin(x)))"
      ]
     },
     "metadata": {},
     "output_type": "display_data"
    }
   ],
   "source": [
    "lexp1 = log(sqrt(x^3)*cos(x)/(sqrt(3+x)*sin(x)))\n",
    "lexp1.show()"
   ]
  },
  {
   "cell_type": "markdown",
   "metadata": {},
   "source": [
    "Logarithms can be expanded using expand_log function."
   ]
  },
  {
   "cell_type": "code",
   "execution_count": 16,
   "metadata": {},
   "outputs": [
    {
     "data": {
      "text/html": [
       "<html><script type=\"math/tex; mode=display\">\\newcommand{\\Bold}[1]{\\mathbf{#1}}-\\frac{1}{2} \\, \\log\\left(x + 3\\right) + \\frac{3}{2} \\, \\log\\left(x\\right) + \\log\\left(\\cos\\left(x\\right)\\right) - \\log\\left(\\sin\\left(x\\right)\\right)</script></html>"
      ],
      "text/plain": [
       "-1/2*log(x + 3) + 3/2*log(x) + log(cos(x)) - log(sin(x))"
      ]
     },
     "metadata": {},
     "output_type": "display_data"
    }
   ],
   "source": [
    "lexp2 = lexp1.expand_log()\n",
    "lexp2.show()"
   ]
  },
  {
   "cell_type": "markdown",
   "metadata": {},
   "source": [
    "Simplification of logarithmic functions is useful for further processing."
   ]
  },
  {
   "cell_type": "code",
   "execution_count": 17,
   "metadata": {},
   "outputs": [
    {
     "data": {
      "text/html": [
       "<html><script type=\"math/tex; mode=display\">\\newcommand{\\Bold}[1]{\\mathbf{#1}}-\\frac{1}{2} \\, \\log\\left(x + 3\\right) + \\frac{3}{2} \\, \\log\\left(x\\right) + \\log\\left(\\frac{\\cos\\left(x\\right)}{\\sin\\left(x\\right)}\\right)</script></html>"
      ],
      "text/plain": [
       "-1/2*log(x + 3) + 3/2*log(x) + log(cos(x)/sin(x))"
      ]
     },
     "metadata": {},
     "output_type": "display_data"
    }
   ],
   "source": [
    "lexp3 = lexp2.simplify_log()\n",
    "lexp3.show()"
   ]
  },
  {
   "cell_type": "markdown",
   "metadata": {},
   "source": [
    "## Rational functions\n",
    "\n",
    "One can simplify expressions to rational forms."
   ]
  },
  {
   "cell_type": "code",
   "execution_count": 18,
   "metadata": {},
   "outputs": [
    {
     "data": {
      "text/html": [
       "<html><script type=\"math/tex; mode=display\">\\newcommand{\\Bold}[1]{\\mathbf{#1}}\\frac{{\\left(x - 1\\right)}^{2}}{x^{3} - 2 \\, x^{2} + x}</script></html>"
      ],
      "text/plain": [
       "(x - 1)^2/(x^3 - 2*x^2 + x)"
      ]
     },
     "metadata": {},
     "output_type": "display_data"
    }
   ],
   "source": [
    "rexp1 = (1-x)^2/(x^3+x-2*x^2)\n",
    "rexp1.show()"
   ]
  },
  {
   "cell_type": "code",
   "execution_count": 19,
   "metadata": {},
   "outputs": [
    {
     "data": {
      "text/html": [
       "<html><script type=\"math/tex; mode=display\">\\newcommand{\\Bold}[1]{\\mathbf{#1}}\\frac{1}{x}</script></html>"
      ],
      "text/plain": [
       "1/x"
      ]
     },
     "metadata": {},
     "output_type": "display_data"
    }
   ],
   "source": [
    "rexp2 = rexp1.simplify_rational()\n",
    "rexp2.show()"
   ]
  },
  {
   "cell_type": "markdown",
   "metadata": {},
   "source": [
    "## Radicals\n",
    "\n",
    "One can have sage choose the canonical form of a given expression."
   ]
  },
  {
   "cell_type": "code",
   "execution_count": 20,
   "metadata": {},
   "outputs": [
    {
     "data": {
      "text/html": [
       "<html><script type=\"math/tex; mode=display\">\\newcommand{\\Bold}[1]{\\mathbf{#1}}\\frac{\\sqrt{x^{2} + x}}{\\sqrt{x}}</script></html>"
      ],
      "text/plain": [
       "sqrt(x^2 + x)/sqrt(x)"
      ]
     },
     "metadata": {},
     "output_type": "display_data"
    }
   ],
   "source": [
    "rexp3 = sqrt(x^2+x)/sqrt(x)\n",
    "rexp3.show()"
   ]
  },
  {
   "cell_type": "code",
   "execution_count": 21,
   "metadata": {},
   "outputs": [
    {
     "data": {
      "text/html": [
       "<html><script type=\"math/tex; mode=display\">\\newcommand{\\Bold}[1]{\\mathbf{#1}}\\sqrt{x + 1}</script></html>"
      ],
      "text/plain": [
       "sqrt(x + 1)"
      ]
     },
     "metadata": {},
     "output_type": "display_data"
    }
   ],
   "source": [
    "rexp4 = rexp3.canonicalize_radical()\n",
    "rexp4.show()"
   ]
  },
  {
   "cell_type": "code",
   "execution_count": null,
   "metadata": {},
   "outputs": [],
   "source": []
  }
 ],
 "metadata": {
  "kernelspec": {
   "display_name": "SageMath 9.0",
   "language": "sage",
   "name": "sagemath"
  },
  "language_info": {
   "codemirror_mode": {
    "name": "ipython",
    "version": 3
   },
   "file_extension": ".py",
   "mimetype": "text/x-python",
   "name": "python",
   "nbconvert_exporter": "python",
   "pygments_lexer": "ipython3",
   "version": "3.8.10"
  }
 },
 "nbformat": 4,
 "nbformat_minor": 2
}
