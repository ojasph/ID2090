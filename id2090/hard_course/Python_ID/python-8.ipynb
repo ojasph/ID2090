{
 "cells": [
  {
   "cell_type": "markdown",
   "metadata": {},
   "source": [
    "# Working with a csv from cloud\n",
    "\n",
    "In this notebook, we use the pandas module to import a csv file from the cloud into ndarray."
   ]
  },
  {
   "cell_type": "code",
   "execution_count": 1,
   "metadata": {},
   "outputs": [],
   "source": [
    "import pandas as pd\n",
    "import numpy as np"
   ]
  },
  {
   "cell_type": "markdown",
   "metadata": {},
   "source": [
    "Confirm if the URL points to a file that can be read using an internet browser. Modify the parameter \"header\" as per the way the first line of the csv file is written."
   ]
  },
  {
   "cell_type": "code",
   "execution_count": 2,
   "metadata": {},
   "outputs": [],
   "source": [
    "url = 'https://raw.githubusercontent.com/gphanikumar/MM2090/master/scripts/RollList.csv'\n",
    "df = pd.read_csv(url, header=None)"
   ]
  },
  {
   "cell_type": "code",
   "execution_count": 3,
   "metadata": {},
   "outputs": [
    {
     "data": {
      "text/plain": [
       "pandas.core.frame.DataFrame"
      ]
     },
     "execution_count": 3,
     "metadata": {},
     "output_type": "execute_result"
    }
   ],
   "source": [
    "type(df)"
   ]
  },
  {
   "cell_type": "markdown",
   "metadata": {},
   "source": [
    "Check the first few rows to see what the data looks like."
   ]
  },
  {
   "cell_type": "code",
   "execution_count": 4,
   "metadata": {},
   "outputs": [
    {
     "name": "stdout",
     "output_type": "stream",
     "text": [
      "          0                 1\n",
      "0  CE19B089    Sruthi Sreeram\n",
      "1  ME18B009   Bharath Chandar\n",
      "2  ME18B020        Aravindh P\n",
      "3  ME18B027    Rajasundaram M\n",
      "4  ME18B033        Suganth NN\n",
      "5  ME18B046          Deepak G\n",
      "6  ME18B086   Arvind Raghav V\n",
      "7  ME18B089       Sriharan BS\n",
      "8  ME18B145   Ashwin Kumar KS\n",
      "9  ME18B146  Vikas Mahendar K\n"
     ]
    }
   ],
   "source": [
    "print(df.head(10))"
   ]
  },
  {
   "cell_type": "markdown",
   "metadata": {},
   "source": [
    "You can copy the data from dataframe to ndarray."
   ]
  },
  {
   "cell_type": "code",
   "execution_count": 5,
   "metadata": {},
   "outputs": [],
   "source": [
    "names = df.to_numpy()"
   ]
  },
  {
   "cell_type": "code",
   "execution_count": 6,
   "metadata": {},
   "outputs": [
    {
     "data": {
      "text/plain": [
       "numpy.ndarray"
      ]
     },
     "execution_count": 6,
     "metadata": {},
     "output_type": "execute_result"
    }
   ],
   "source": [
    "type(names)"
   ]
  },
  {
   "cell_type": "code",
   "execution_count": 7,
   "metadata": {},
   "outputs": [
    {
     "data": {
      "text/plain": [
       "(78, 2)"
      ]
     },
     "execution_count": 7,
     "metadata": {},
     "output_type": "execute_result"
    }
   ],
   "source": [
    "names.shape"
   ]
  },
  {
   "cell_type": "code",
   "execution_count": 8,
   "metadata": {},
   "outputs": [
    {
     "data": {
      "text/plain": [
       "array(['Sruthi Sreeram', 'Bharath Chandar', 'Aravindh P',\n",
       "       'Rajasundaram M', 'Suganth NN'], dtype=object)"
      ]
     },
     "execution_count": 8,
     "metadata": {},
     "output_type": "execute_result"
    }
   ],
   "source": [
    "names[0:5,1]"
   ]
  },
  {
   "cell_type": "markdown",
   "metadata": {},
   "source": [
    "You can insert a column into the dataframe. Before that, make sure you have the column of same length to avoid mistmatch. Here, we use random numbers scaled to be between 0 and 40 as the column named \"es\"."
   ]
  },
  {
   "cell_type": "code",
   "execution_count": 9,
   "metadata": {},
   "outputs": [
    {
     "data": {
      "text/plain": [
       "(78,)"
      ]
     },
     "execution_count": 9,
     "metadata": {},
     "output_type": "execute_result"
    }
   ],
   "source": [
    "es = 40*np.random.rand(len(names))\n",
    "es.shape"
   ]
  },
  {
   "cell_type": "code",
   "execution_count": 10,
   "metadata": {},
   "outputs": [],
   "source": [
    "df.insert(2, \"es\", es, True)"
   ]
  },
  {
   "cell_type": "code",
   "execution_count": 11,
   "metadata": {},
   "outputs": [
    {
     "name": "stdout",
     "output_type": "stream",
     "text": [
      "           0                  1         es\n",
      "0   CE19B089     Sruthi Sreeram  34.550398\n",
      "1   ME18B009    Bharath Chandar  21.247457\n",
      "2   ME18B020         Aravindh P  20.846040\n",
      "3   ME18B027     Rajasundaram M   4.941953\n",
      "4   ME18B033         Suganth NN  17.489485\n",
      "..       ...                ...        ...\n",
      "73  MM19B044   Pranav Choudhari  34.450390\n",
      "74  MM19B045          Aswanth R  23.999396\n",
      "75  MM19B046  Rishaab Karthik R   4.250049\n",
      "76  MM19B049       Rohan Korale  12.160028\n",
      "77  MM19B054      Shreya Smitha  12.824308\n",
      "\n",
      "[78 rows x 3 columns]\n"
     ]
    }
   ],
   "source": [
    "print(df)"
   ]
  },
  {
   "cell_type": "markdown",
   "metadata": {},
   "source": [
    "You can save the dataframe to a csv file in the present working directory of the notebook. You can use a relative path but make sure you have write permissions to that folder. \n",
    "\n",
    "Uncomment (i.e., remove the # character at the beginning of) the following line and try it in your notebook on your computer. Commenting this cell so that it will render on github."
   ]
  },
  {
   "cell_type": "code",
   "execution_count": 12,
   "metadata": {},
   "outputs": [],
   "source": [
    "#df.to_csv(\"marks.csv\", index=False)"
   ]
  },
  {
   "cell_type": "markdown",
   "metadata": {},
   "source": [
    "Use the ! to prefix any command you want to pass to the shell for execution. Uncomment the following line and try it in your notebook on your computer. Commenting this cell so that it will render on github."
   ]
  },
  {
   "cell_type": "code",
   "execution_count": 13,
   "metadata": {},
   "outputs": [],
   "source": [
    "#!ls -l marks.csv"
   ]
  },
  {
   "cell_type": "code",
   "execution_count": null,
   "metadata": {},
   "outputs": [],
   "source": []
  }
 ],
 "metadata": {
  "kernelspec": {
   "display_name": "Python 3",
   "language": "python",
   "name": "python3"
  },
  "language_info": {
   "codemirror_mode": {
    "name": "ipython",
    "version": 3
   },
   "file_extension": ".py",
   "mimetype": "text/x-python",
   "name": "python",
   "nbconvert_exporter": "python",
   "pygments_lexer": "ipython3",
   "version": "3.8.10"
  }
 },
 "nbformat": 4,
 "nbformat_minor": 4
}
